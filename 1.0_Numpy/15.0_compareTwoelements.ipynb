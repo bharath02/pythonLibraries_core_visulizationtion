{
 "cells": [
  {
   "cell_type": "code",
   "execution_count": 2,
   "metadata": {},
   "outputs": [
    {
     "name": "stdout",
     "output_type": "stream",
     "text": [
      "Greater then :  [False False]\n",
      "Greater then equal to :  [False False]\n",
      "Less then :  [ True  True]\n",
      "less then are equal to :  [ True  True]\n"
     ]
    }
   ],
   "source": [
    "''' Write a Python program compare two arrays using numpy. \n",
    "Array a: [1 2]\n",
    "Array b: [4 5]\n",
    "a > b \n",
    "[False False]\n",
    "a >= b \n",
    "[False False] \n",
    "a < b \n",
    "[ True True] \n",
    "a <= b \n",
    "[ True True]\n",
    "'''\n",
    "\n",
    "import numpy as np\n",
    "array1=np.array([1,2])\n",
    "array2=np.array([4,5])\n",
    "print(\"Greater then : \",np.greater(array1,array2))\n",
    "print(\"Greater then equal to : \",np.greater_equal(array1,array2))\n",
    "print(\"Less then : \",np.less(array1,array2))\n",
    "print(\"less then are equal to : \",np.less_equal(array1,array2))\n",
    "    \n"
   ]
  }
 ],
 "metadata": {
  "kernelspec": {
   "display_name": "Python 3",
   "language": "python",
   "name": "python3"
  },
  "language_info": {
   "codemirror_mode": {
    "name": "ipython",
    "version": 3
   },
   "file_extension": ".py",
   "mimetype": "text/x-python",
   "name": "python",
   "nbconvert_exporter": "python",
   "pygments_lexer": "ipython3",
   "version": "3.6.9"
  }
 },
 "nbformat": 4,
 "nbformat_minor": 4
}
