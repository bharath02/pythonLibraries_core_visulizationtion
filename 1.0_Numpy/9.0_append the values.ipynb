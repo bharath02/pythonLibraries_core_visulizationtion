{
 "cells": [
  {
   "cell_type": "code",
   "execution_count": 6,
   "metadata": {},
   "outputs": [
    {
     "name": "stdout",
     "output_type": "stream",
     "text": [
      "[10 20 30]\n",
      "[10 20 30 40 50 60 70 80 90]\n"
     ]
    }
   ],
   "source": [
    "# 9 Write a Python program to append values to the end of an array. \n",
    "\"\"\"Expected Output:\n",
    "Original array:\n",
    "[10, 20, 30] \n",
    "After append values to the end of the array:\n",
    "[10 20 30 40 50 60 70 80 90]\"\"\"\n",
    "\n",
    "import numpy as np\n",
    "\n",
    "listValues=[10,20,30]\n",
    "array=np.array(listValues)\n",
    "print(array)\n",
    "listvalues2=np.append(listValues,[40,50,60,70,80,90])\n",
    "print(listvalues2)\n",
    "\n",
    "\n"
   ]
  },
  {
   "cell_type": "code",
   "execution_count": 7,
   "metadata": {},
   "outputs": [],
   "source": [
    "listval=[40,50,60,70,80,90]\n",
    "appendvalu=np.append(listValues,listval)\n",
    "print(app)"
   ]
  }
 ],
 "metadata": {
  "kernelspec": {
   "display_name": "Python 3",
   "language": "python",
   "name": "python3"
  },
  "language_info": {
   "codemirror_mode": {
    "name": "ipython",
    "version": 3
   },
   "file_extension": ".py",
   "mimetype": "text/x-python",
   "name": "python",
   "nbconvert_exporter": "python",
   "pygments_lexer": "ipython3",
   "version": "3.6.9"
  }
 },
 "nbformat": 4,
 "nbformat_minor": 4
}
