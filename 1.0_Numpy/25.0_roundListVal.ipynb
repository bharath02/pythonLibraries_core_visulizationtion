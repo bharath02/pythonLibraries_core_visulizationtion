{
 "cells": [
  {
   "cell_type": "code",
   "execution_count": 7,
   "metadata": {},
   "outputs": [
    {
     "name": "stdout",
     "output_type": "stream",
     "text": [
      "[0.26153123 0.52760141 0.5718299  0.5927067  0.7831874  0.69746349\n",
      " 0.35399976 0.99469633 0.0694458  0.54711478]\n",
      "[0.262, 0.528, 0.572, 0.593, 0.783, 0.697, 0.354, 0.995, 0.069, 0.547]\n"
     ]
    }
   ],
   "source": [
    "\"\"\" Write a Python program to convert a NumPy array into Python list structure. \n",
    "Expected Output:\n",
    "Original array elements:\n",
    "[ 0.26153123 0.52760141 0.5718299 0.5927067 0.7831874 0.69746349 \n",
    "0.35399976 0.99469633 0.0694458 0.54711478] \n",
    "Print array values with precision 3: \n",
    "[ 0.262 0.528 0.572 0.593 0.783 0.697 0.354 0.995 0.069 0.547]\n",
    "\n",
    "\"\"\"\n",
    "import numpy as np\n",
    "\n",
    "array=np.array([ 0.26153123, 0.52760141, 0.5718299, 0.5927067, 0.7831874, 0.69746349, \n",
    "0.35399976, 0.99469633, 0.0694458, 0.54711478])\n",
    "print(array)\n",
    "print(np.round(array,3).tolist())\n",
    "\n"
   ]
  }
 ],
 "metadata": {
  "kernelspec": {
   "display_name": "Python 3",
   "language": "python",
   "name": "python3"
  },
  "language_info": {
   "codemirror_mode": {
    "name": "ipython",
    "version": 3
   },
   "file_extension": ".py",
   "mimetype": "text/x-python",
   "name": "python",
   "nbconvert_exporter": "python",
   "pygments_lexer": "ipython3",
   "version": "3.6.9"
  }
 },
 "nbformat": 4,
 "nbformat_minor": 4
}
