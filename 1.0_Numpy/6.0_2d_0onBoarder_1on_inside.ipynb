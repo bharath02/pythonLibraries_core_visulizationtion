{
 "cells": [
  {
   "cell_type": "code",
   "execution_count": 10,
   "metadata": {},
   "outputs": [
    {
     "name": "stdout",
     "output_type": "stream",
     "text": [
      "[[1. 1. 1.]\n",
      " [1. 1. 1.]\n",
      " [1. 1. 1.]]\n",
      "[[0. 0. 0. 0. 0.]\n",
      " [0. 1. 1. 1. 0.]\n",
      " [0. 1. 1. 1. 0.]\n",
      " [0. 1. 1. 1. 0.]\n",
      " [0. 0. 0. 0. 0.]]\n"
     ]
    }
   ],
   "source": [
    "#  Write a Python program to add a border (filled with 0's) around an existing array. \n",
    "'''Expected Output:\n",
    "[[ 1. 1. 1.] \n",
    "[ 1. 1. 1.] \n",
    "[ 1. 1. 1.]] \n",
    "1 on the border and 0 inside in the array \n",
    "[[ 0. 0. 0. 0. 0.] \n",
    "[ 0. 1. 1. 1. 0.] \n",
    "[ 0. 1. 1. 1. 0.] \n",
    "[ 0. 1. 1. 1. 0.] \n",
    "[ 0. 0. 0. 0. 0.]]'''\n",
    "\n",
    "import numpy as np\n",
    "\n",
    "ones=np.ones((3,3))\n",
    "print(ones)\n",
    "pad=np.pad(ones,pad_width=1,constant_values=0)\n",
    "print(pad)"
   ]
  }
 ],
 "metadata": {
  "kernelspec": {
   "display_name": "Python 3",
   "language": "python",
   "name": "python3"
  },
  "language_info": {
   "codemirror_mode": {
    "name": "ipython",
    "version": 3
   },
   "file_extension": ".py",
   "mimetype": "text/x-python",
   "name": "python",
   "nbconvert_exporter": "python",
   "pygments_lexer": "ipython3",
   "version": "3.6.9"
  }
 },
 "nbformat": 4,
 "nbformat_minor": 4
}
