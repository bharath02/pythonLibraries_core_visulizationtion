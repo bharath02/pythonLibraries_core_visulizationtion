{
 "cells": [
  {
   "cell_type": "code",
   "execution_count": 6,
   "metadata": {},
   "outputs": [
    {
     "name": "stdout",
     "output_type": "stream",
     "text": [
      "[1 2 3 4 5 6 7 8]\n",
      "[[8 4 6]\n",
      " [1 2 3]]\n"
     ]
    }
   ],
   "source": [
    "# Write a Python program to convert a list and tuple into arrays. \n",
    "'''List to array:\n",
    "[1 2 3 4 5 6 7 8] \n",
    "Tuple to array:\n",
    "[[8 4 6] \n",
    "[1 2 3]]'''\n",
    "\n",
    "import numpy as np \n",
    "\n",
    "listValue=[1,2,3,4,5,6,7,8]\n",
    "listCarray=np.array(listValue)\n",
    "print(listCarray)\n",
    "tupleValue=(8,4,6,1,2,3)\n",
    "tupleCarray=np.array(tupleValue).reshape(2,3)\n",
    "print(tupleCarray)"
   ]
  }
 ],
 "metadata": {
  "kernelspec": {
   "display_name": "Python 3",
   "language": "python",
   "name": "python3"
  },
  "language_info": {
   "codemirror_mode": {
    "name": "ipython",
    "version": 3
   },
   "file_extension": ".py",
   "mimetype": "text/x-python",
   "name": "python",
   "nbconvert_exporter": "python",
   "pygments_lexer": "ipython3",
   "version": "3.6.9"
  }
 },
 "nbformat": 4,
 "nbformat_minor": 4
}
