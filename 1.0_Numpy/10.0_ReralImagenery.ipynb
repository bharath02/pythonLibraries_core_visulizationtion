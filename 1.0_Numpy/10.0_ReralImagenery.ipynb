{
 "cells": [
  {
   "cell_type": "code",
   "execution_count": 5,
   "metadata": {},
   "outputs": [
    {
     "name": "stdout",
     "output_type": "stream",
     "text": [
      "orginal Value [1.+0.j] [0.70710678+0.70710678j]\n",
      "Real Value :  [1.] [0.70710678]\n"
     ]
    }
   ],
   "source": [
    "# Write a Python program to find the real and imaginary parts of an array of complex numbers. \n",
    "'''Expected Output:\n",
    "Original array [ 1.00000000+0.j 0.70710678+0.70710678j] \n",
    "Real part of the array: \n",
    "[ 1. 0.70710678] \n",
    "Imaginary part of the array:\n",
    "[ 0. 0.70710678]'''\n",
    "\n",
    "import numpy as np\n",
    "\n",
    "arrayValue=np.sqrt([1+0j])\n",
    "arrayValue1=np.sqrt([0+1j])\n",
    "print(\"orginal Value\",arrayValue,arrayValue1)\n",
    "print(\"Real Value : \",arrayValue.real,arrayValue1.real)"
   ]
  }
 ],
 "metadata": {
  "kernelspec": {
   "display_name": "Python 3",
   "language": "python",
   "name": "python3"
  },
  "language_info": {
   "codemirror_mode": {
    "name": "ipython",
    "version": 3
   },
   "file_extension": ".py",
   "mimetype": "text/x-python",
   "name": "python",
   "nbconvert_exporter": "python",
   "pygments_lexer": "ipython3",
   "version": "3.6.9"
  }
 },
 "nbformat": 4,
 "nbformat_minor": 4
}
