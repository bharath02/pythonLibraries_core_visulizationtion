{
 "cells": [
  {
   "cell_type": "code",
   "execution_count": 4,
   "metadata": {},
   "outputs": [
    {
     "name": "stdout",
     "output_type": "stream",
     "text": [
      "0 20 60 80 \n",
      " [ 0 20 60 80]\n"
     ]
    }
   ],
   "source": [
    "'''. Write a Python program to find the set difference of two arrays. The set difference will return the sorted, unique values in array1 that are not in array2. \n",
    "Expected Output:\n",
    "Array1: [ 0 10 20 40 60 80]\n",
    "Array2: [10, 30, 40, 50, 70, 90] \n",
    "Set difference between two arrays:\n",
    "[ 0 20 60 80]\n",
    "'''\n",
    "import numpy as np\n",
    "    \n",
    "array1=np.array([0,10, 20, 40, 60, 80])\n",
    "array2=np.array([10, 30, 40, 50, 70, 90])\n",
    "for val in array1:\n",
    "    if(val not in array2):\n",
    "        print(val,end=\" \")\n",
    "print(\"\\n\",np.setdiff1d(array1,array2))"
   ]
  }
 ],
 "metadata": {
  "kernelspec": {
   "display_name": "Python 3",
   "language": "python",
   "name": "python3"
  },
  "language_info": {
   "codemirror_mode": {
    "name": "ipython",
    "version": 3
   },
   "file_extension": ".py",
   "mimetype": "text/x-python",
   "name": "python",
   "nbconvert_exporter": "python",
   "pygments_lexer": "ipython3",
   "version": "3.6.9"
  }
 },
 "nbformat": 4,
 "nbformat_minor": 4
}
