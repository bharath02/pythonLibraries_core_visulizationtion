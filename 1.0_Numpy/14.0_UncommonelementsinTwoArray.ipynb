{
 "cells": [
  {
   "cell_type": "code",
   "execution_count": 5,
   "metadata": {},
   "outputs": [
    {
     "name": "stdout",
     "output_type": "stream",
     "text": [
      "\n",
      " [ 0 20 30 50 60 70 80 90]\n"
     ]
    }
   ],
   "source": [
    "'''Write a Python program to find the set exclusive-or of two arrays. Set exclusive-or will return the sorted, unique values that are in only one (not both) of the input arrays. \n",
    "Array1: [ 0 10 20 40 60 80] \n",
    "Array2: [10, 30, 40, 50, 70] \n",
    "Unique values that are in only one (not both) of the input arrays: \n",
    "[ 0 20 30 50 60 70 80]\n",
    "'''\n",
    "import numpy as np\n",
    "    \n",
    "array1=np.array([0,10, 20, 40, 60, 80])\n",
    "array2=np.array([10, 30, 40, 50, 70, 90])\n",
    "    \n",
    "print(\"\\n\",np.setxor1d(array1,array2))"
   ]
  }
 ],
 "metadata": {
  "kernelspec": {
   "display_name": "Python 3",
   "language": "python",
   "name": "python3"
  },
  "language_info": {
   "codemirror_mode": {
    "name": "ipython",
    "version": 3
   },
   "file_extension": ".py",
   "mimetype": "text/x-python",
   "name": "python",
   "nbconvert_exporter": "python",
   "pygments_lexer": "ipython3",
   "version": "3.6.9"
  }
 },
 "nbformat": 4,
 "nbformat_minor": 4
}
