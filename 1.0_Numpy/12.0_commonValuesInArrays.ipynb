{
 "cells": [
  {
   "cell_type": "code",
   "execution_count": 4,
   "metadata": {},
   "outputs": [
    {
     "name": "stdout",
     "output_type": "stream",
     "text": [
      "10 40 \n",
      " [10 40]\n"
     ]
    }
   ],
   "source": [
    "'''Write a Python program to find common values between two arrays. \n",
    "Expected Output:\n",
    "Array1: [ 0 10 20 40 60] \n",
    "Array2: [10, 30, 40]\n",
    "Common values between two arrays:\n",
    "[10 40]'''\n",
    "\n",
    "import numpy as np\n",
    "\n",
    "array1=np.array([0,10,20,40,60])\n",
    "array2=np.array([10,30,40])\n",
    "for val in array1:\n",
    "    if(val in array2):\n",
    "        print(val,end=\" \")\n",
    "print(\"\\n\",np.intersect1d(array1,array2))"
   ]
  },
  {
   "cell_type": "code",
   "execution_count": null,
   "metadata": {},
   "outputs": [],
   "source": []
  }
 ],
 "metadata": {
  "kernelspec": {
   "display_name": "Python 3",
   "language": "python",
   "name": "python3"
  },
  "language_info": {
   "codemirror_mode": {
    "name": "ipython",
    "version": 3
   },
   "file_extension": ".py",
   "mimetype": "text/x-python",
   "name": "python",
   "nbconvert_exporter": "python",
   "pygments_lexer": "ipython3",
   "version": "3.6.9"
  }
 },
 "nbformat": 4,
 "nbformat_minor": 4
}
