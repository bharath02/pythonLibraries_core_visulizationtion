{
 "cells": [
  {
   "cell_type": "code",
   "execution_count": 14,
   "metadata": {},
   "outputs": [
    {
     "name": "stdout",
     "output_type": "stream",
     "text": [
      "[[ 2  4  6]\n",
      " [ 6  8 10]]\n",
      "[[ 2.  4.  6.]\n",
      " [ 6.  8. 10.]]\n"
     ]
    }
   ],
   "source": [
    "\"\"\"Write a Python program to change the data type of an array. \n",
    "Expected Output:\n",
    "[[ 2 4 6]\n",
    "[ 6 8 10]] \n",
    "Data type of the array x is: int32 \n",
    "New Type: float64 \n",
    "[[ 2. 4. 6.] \n",
    "[ 6. 8. 10.]]\n",
    "\"\"\"\n",
    "\n",
    "import numpy as np\n",
    "\n",
    "array=np.array([2,4,6,6,8,10],dtype=int).reshape(2,3)\n",
    "print((array))\n",
    "array1=np.array([2,4,6,6,8,10],dtype=float).reshape(2,3)\n",
    "print((array1))"
   ]
  },
  {
   "cell_type": "code",
   "execution_count": 17,
   "metadata": {},
   "outputs": [
    {
     "name": "stdout",
     "output_type": "stream",
     "text": [
      "[[ 2  4  6]\n",
      " [ 6  8 10]] int32\n"
     ]
    }
   ],
   "source": [
    "arr=np.array([[2,4,6],[6,8,10]],np.int32)\n",
    "print(arr,arr.dtype)\n",
    "arr1=arr.astype(f)"
   ]
  }
 ],
 "metadata": {
  "kernelspec": {
   "display_name": "Python 3",
   "language": "python",
   "name": "python3"
  },
  "language_info": {
   "codemirror_mode": {
    "name": "ipython",
    "version": 3
   },
   "file_extension": ".py",
   "mimetype": "text/x-python",
   "name": "python",
   "nbconvert_exporter": "python",
   "pygments_lexer": "ipython3",
   "version": "3.6.9"
  }
 },
 "nbformat": 4,
 "nbformat_minor": 4
}
