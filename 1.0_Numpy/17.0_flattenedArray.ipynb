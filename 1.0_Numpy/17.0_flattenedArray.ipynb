{
 "cells": [
  {
   "cell_type": "code",
   "execution_count": 2,
   "metadata": {},
   "outputs": [
    {
     "name": "stdout",
     "output_type": "stream",
     "text": [
      "[10, 20, 20, 30, 40, 50]\n",
      "[10 20 30 20 40 50]\n"
     ]
    }
   ],
   "source": [
    "\"\"\"Write a Python program to create a contiguous flattened array. \n",
    "Original array:\n",
    "[[10 20 30] \n",
    "[20 40 50]] \n",
    "New flattened array: \n",
    "[10 20 30 20 40 50]\n",
    "\n",
    "\"\"\"\n",
    "\n",
    "import numpy as np\n",
    "\n",
    "array=[10,20,30]\n",
    "array1=[20,40,50]\n",
    "\n",
    "val=np.append(array,array1)\n",
    "print(sorted(val))\n",
    "print(np.ravel(val))\n"
   ]
  }
 ],
 "metadata": {
  "kernelspec": {
   "display_name": "Python 3",
   "language": "python",
   "name": "python3"
  },
  "language_info": {
   "codemirror_mode": {
    "name": "ipython",
    "version": 3
   },
   "file_extension": ".py",
   "mimetype": "text/x-python",
   "name": "python",
   "nbconvert_exporter": "python",
   "pygments_lexer": "ipython3",
   "version": "3.6.9"
  }
 },
 "nbformat": 4,
 "nbformat_minor": 4
}
