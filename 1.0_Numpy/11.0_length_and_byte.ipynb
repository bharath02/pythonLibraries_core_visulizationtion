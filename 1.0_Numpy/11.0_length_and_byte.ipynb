{
 "cells": [
  {
   "cell_type": "code",
   "execution_count": 4,
   "metadata": {},
   "outputs": [
    {
     "name": "stdout",
     "output_type": "stream",
     "text": [
      "Size :  3\n",
      "length of an array element :  8\n",
      "Total bytes consumed by the elements of the array : 24\n"
     ]
    }
   ],
   "source": [
    "''' Write a Python program to find the number of elements of an array, length of one array element in bytes and total bytes consumed by the elements. \n",
    "Expected Output:\n",
    "Size of the array: 3\n",
    "Length of one array element in bytes: 8 \n",
    "Total bytes consumed by the elements of the array: 24 '''\n",
    "import numpy as np\n",
    "\n",
    "array=np.array([10,22,33],dtype=float)\n",
    "print(\"Size : \",array.size)\n",
    "print(\"length of an array element : \",array.itemsize)\n",
    "print(\"Total bytes consumed by the elements of the array :\", array.nbytes)"
   ]
  }
 ],
 "metadata": {
  "kernelspec": {
   "display_name": "Python 3",
   "language": "python",
   "name": "python3"
  },
  "language_info": {
   "codemirror_mode": {
    "name": "ipython",
    "version": 3
   },
   "file_extension": ".py",
   "mimetype": "text/x-python",
   "name": "python",
   "nbconvert_exporter": "python",
   "pygments_lexer": "ipython3",
   "version": "3.6.9"
  }
 },
 "nbformat": 4,
 "nbformat_minor": 4
}
