{
 "cells": [
  {
   "cell_type": "code",
   "execution_count": 25,
   "metadata": {},
   "outputs": [
    {
     "name": "stdout",
     "output_type": "stream",
     "text": [
      "[[0 1 0 1 0 1 0 1]\n",
      " [1 0 1 0 1 0 1 0]\n",
      " [0 1 0 1 0 1 0 1]\n",
      " [1 0 1 0 1 0 1 0]\n",
      " [0 1 0 1 0 1 0 1]\n",
      " [1 0 1 0 1 0 1 0]\n",
      " [0 1 0 1 0 1 0 1]\n",
      " [1 0 1 0 1 0 1 0]]\n"
     ]
    }
   ],
   "source": [
    "#Write a Python program to create a 8x8 matrix and fill it with a checkerboard pattern. \n",
    "'''Checkerboard pattern:\n",
    "[[0 1 0 1 0 1 0 1] \n",
    "[1 0 1 0 1 0 1 0] \n",
    "[0 1 0 1 0 1 0 1] \n",
    "[1 0 1 0 1 0 1 0] \n",
    "[0 1 0 1 0 1 0 1] \n",
    "[1 0 1 0 1 0 1 0] \n",
    "[0 1 0 1 0 1 0 1] \n",
    "[1 0 1 0 1 0 1 0]]'''\n",
    "\n",
    "import numpy as np\n",
    "chess = np.zeros((8,8),dtype=int)\n",
    "chess[1::2,::2] = 1\n",
    "chess[::2,1::2] = 1\n",
    "print(chess)"
   ]
  }
 ],
 "metadata": {
  "kernelspec": {
   "display_name": "Python 3",
   "language": "python",
   "name": "python3"
  },
  "language_info": {
   "codemirror_mode": {
    "name": "ipython",
    "version": 3
   },
   "file_extension": ".py",
   "mimetype": "text/x-python",
   "name": "python",
   "nbconvert_exporter": "python",
   "pygments_lexer": "ipython3",
   "version": "3.6.9"
  }
 },
 "nbformat": 4,
 "nbformat_minor": 4
}
