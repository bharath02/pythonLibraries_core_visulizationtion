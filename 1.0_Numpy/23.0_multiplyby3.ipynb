{
 "cells": [
  {
   "cell_type": "code",
   "execution_count": 3,
   "metadata": {},
   "outputs": [
    {
     "name": "stdout",
     "output_type": "stream",
     "text": [
      "[[ 0  1  2  3]\n",
      " [ 4  5  6  7]\n",
      " [ 8  9 10 11]]\n",
      "[[ 0  3  6  9]\n",
      " [12 15 18 21]\n",
      " [24 27 30 33]]\n"
     ]
    }
   ],
   "source": [
    "\"\"\"\n",
    "22. Write a Python program to create an array of (3, 4) shape, multiply every element value by 3 and display the new array. \n",
    "Expected Output:\n",
    "Original array elements: \n",
    "[[ 0 1 2 3] \n",
    "[ 4 5 6 7] \n",
    "[ 8 9 10 11]] \n",
    "New array elements:\n",
    "[[ 0 3 6 9] \n",
    "[12 15 18 21] \n",
    "[24 27 30 33]]\n",
    "\"\"\"\n",
    "\n",
    "import numpy as np\n",
    "\n",
    "array=np.arange(0,12).reshape(3,4)\n",
    "print(array)\n",
    "print(array*3)"
   ]
  }
 ],
 "metadata": {
  "kernelspec": {
   "display_name": "Python 3",
   "language": "python",
   "name": "python3"
  },
  "language_info": {
   "codemirror_mode": {
    "name": "ipython",
    "version": 3
   },
   "file_extension": ".py",
   "mimetype": "text/x-python",
   "name": "python",
   "nbconvert_exporter": "python",
   "pygments_lexer": "ipython3",
   "version": "3.6.9"
  }
 },
 "nbformat": 4,
 "nbformat_minor": 4
}
