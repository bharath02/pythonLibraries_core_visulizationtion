{
 "cells": [
  {
   "cell_type": "code",
   "execution_count": 9,
   "metadata": {},
   "outputs": [
    {
     "name": "stdout",
     "output_type": "stream",
     "text": [
      "[55, 38, 38, 74, 13, 60, 12, 62, 76, 6] \n",
      " [79, 62, 57, 49, 16, 12, 38, 3, 23, 66]\n"
     ]
    },
    {
     "data": {
      "text/plain": [
       "<matplotlib.collections.PathCollection at 0x7fd2bd82d5c0>"
      ]
     },
     "execution_count": 9,
     "metadata": {},
     "output_type": "execute_result"
    },
    {
     "data": {
      "image/png": "[encoded data removed]",
      "text/plain": [
       "<Figure size 432x288 with 1 Axes>"
      ]
     },
     "metadata": {
      "needs_background": "light"
     },
     "output_type": "display_data"
    }
   ],
   "source": [
    "\"\"\" Write a Python program to draw a scatter plot with empty circles taking a random distribution in X and Y and plotted against each other. \n",
    "\"\"\"\n",
    "\n",
    "import matplotlib.pyplot as plt\n",
    "import random \n",
    "x,y=[],[]\n",
    "for i in range(10):\n",
    "    X=random.randint(0,100)\n",
    "    x.append(X)\n",
    "    Y=random.randint(0,100)\n",
    "    y.append(Y)\n",
    "print(x,\"\\n\",y)\n",
    "plt.scatter(x,y,facecolor='None',edgecolors='b')\n"
   ]
  },
  {
   "cell_type": "code",
   "execution_count": null,
   "metadata": {},
   "outputs": [],
   "source": [
    "import numpy as np\n",
    "\n",
    "x1=np.random.randn(22)\n",
    "y1=np.random."
   ]
  }
 ],
 "metadata": {
  "kernelspec": {
   "display_name": "Python 3",
   "language": "python",
   "name": "python3"
  },
  "language_info": {
   "codemirror_mode": {
    "name": "ipython",
    "version": 3
   },
   "file_extension": ".py",
   "mimetype": "text/x-python",
   "name": "python",
   "nbconvert_exporter": "python",
   "pygments_lexer": "ipython3",
   "version": "3.6.9"
  }
 },
 "nbformat": 4,
 "nbformat_minor": 4
}
