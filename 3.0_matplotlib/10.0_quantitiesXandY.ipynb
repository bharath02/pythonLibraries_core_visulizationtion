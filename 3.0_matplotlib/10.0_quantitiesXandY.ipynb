{
 "cells": [
  {
   "cell_type": "code",
   "execution_count": 2,
   "metadata": {},
   "outputs": [
    {
     "data": {
      "text/plain": [
       "[<matplotlib.lines.Line2D at 0x7fa9d9388cf8>,\n",
       " <matplotlib.lines.Line2D at 0x7fa9d8cdc278>]"
      ]
     },
     "execution_count": 2,
     "metadata": {},
     "output_type": "execute_result"
    },
    {
     "data": {
      "image/png": "[encoded data removed]",
      "text/plain": [
       "<Figure size 432x288 with 1 Axes>"
      ]
     },
     "metadata": {
      "needs_background": "light"
     },
     "output_type": "display_data"
    }
   ],
   "source": [
    "\"\"\"Write a Python program to plot quantities which have an x and y position\"\"\"\n",
    "import numpy as np\n",
    "import pylab as pl\n",
    "\n",
    "x1 = [2, 3, 5, 6, 8]\n",
    "y1 = [1, 5, 10, 18, 20]\n",
    "\n",
    "x2 = [1, 4, 6, 7, 9]\n",
    "y2 = [2, 6, 11, 20, 22]\n",
    "\n",
    "pl.axis([0, 10, 0, 30])\n",
    "pl.plot(x1, y1,'b*', x2, y2, 'ro')\n"
   ]
  }
 ],
 "metadata": {
  "kernelspec": {
   "display_name": "Python 3",
   "language": "python",
   "name": "python3"
  },
  "language_info": {
   "codemirror_mode": {
    "name": "ipython",
    "version": 3
   },
   "file_extension": ".py",
   "mimetype": "text/x-python",
   "name": "python",
   "nbconvert_exporter": "python",
   "pygments_lexer": "ipython3",
   "version": "3.6.9"
  }
 },
 "nbformat": 4,
 "nbformat_minor": 4
}
