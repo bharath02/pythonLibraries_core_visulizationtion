{
 "cells": [
  {
   "cell_type": "code",
   "execution_count": 9,
   "metadata": {},
   "outputs": [
    {
     "data": {
      "text/plain": [
       "<Figure size 432x288 with 0 Axes>"
      ]
     },
     "metadata": {},
     "output_type": "display_data"
    },
    {
     "data": {
      "text/plain": [
       "<Figure size 432x288 with 0 Axes>"
      ]
     },
     "metadata": {},
     "output_type": "display_data"
    },
    {
     "data": {
      "image/png": "[encoded data removed]",
      "text/plain": [
       "<Figure size 432x288 with 1 Axes>"
      ]
     },
     "metadata": {
      "needs_background": "light"
     },
     "output_type": "display_data"
    }
   ],
   "source": [
    "\"\"\" Write a Python program to create multiple types of charts\n",
    "\"\"\"\n",
    "import datetime as DT\n",
    "from matplotlib import pyplot as plt\n",
    "from matplotlib.dates import date2num\n",
    "\n",
    "data = [(DT.datetime.strptime('2016-10-03', \"%Y-%m-%d\"), 772.559998),\n",
    "        (DT.datetime.strptime('2016-10-04', \"%Y-%m-%d\"), 776.429993),\n",
    "        (DT.datetime.strptime('2016-10-05', \"%Y-%m-%d\"), 776.469971),\n",
    "        (DT.datetime.strptime('2016-10-06', \"%Y-%m-%d\"), 776.859985),\n",
    "        (DT.datetime.strptime('2016-10-07', \"%Y-%m-%d\"), 775.080017 )]\n",
    "\n",
    "x = [date2num(date) for (date, value) in data]\n",
    "y = [value for (date, value) in data]\n",
    "\n",
    "fig = plt.figure()\n",
    "data = [(DT.datetime.strptime('2016-10-03', \"%Y-%m-%d\"), 772.559998),\n",
    "        (DT.datetime.strptime('2016-10-04', \"%Y-%m-%d\"), 776.429993),\n",
    "        (DT.datetime.strptime('2016-10-05', \"%Y-%m-%d\"), 776.469971),\n",
    "        (DT.datetime.strptime('2016-10-06', \"%Y-%m-%d\"), 776.859985),\n",
    "        (DT.datetime.strptime('2016-10-07', \"%Y-%m-%d\"), 775.080017 )]\n",
    "\n",
    "x = [date2num(date) for (date, value) in data]\n",
    "y = [value for (date, value) in data]\n",
    "\n",
    "fig = plt.figure()\n",
    "data = [(DT.datetime.strptime('2016-10-03', \"%Y-%m-%d\"), 772.559998),\n",
    "        (DT.datetime.strptime('2016-10-04', \"%Y-%m-%d\"), 776.429993),\n",
    "        (DT.datetime.strptime('2016-10-05', \"%Y-%m-%d\"), 776.469971),\n",
    "        (DT.datetime.strptime('2016-10-06', \"%Y-%m-%d\"), 776.859985),\n",
    "        (DT.datetime.strptime('2016-10-07', \"%Y-%m-%d\"), 775.080017 )]\n",
    "\n",
    "x = [date2num(date) for (date, value) in data]\n",
    "y = [value for (date, value) in data]\n",
    "\n",
    "fig = plt.figure()\n",
    "graph=fig.add_subplot(111)\n",
    "graph.plot(x,y,'r-o')\n",
    "graph.set_xticks(x)\n",
    "graph.set_xticklabels(\n",
    "    [date.strftime(\"%Y-%m-%d\") for (date,value) in data]\n",
    ")\n",
    "plt.show()\n"
   ]
  }
 ],
 "metadata": {
  "kernelspec": {
   "display_name": "Python 3",
   "language": "python",
   "name": "python3"
  },
  "language_info": {
   "codemirror_mode": {
    "name": "ipython",
    "version": 3
   },
   "file_extension": ".py",
   "mimetype": "text/x-python",
   "name": "python",
   "nbconvert_exporter": "python",
   "pygments_lexer": "ipython3",
   "version": "3.6.9"
  }
 },
 "nbformat": 4,
 "nbformat_minor": 4
}
