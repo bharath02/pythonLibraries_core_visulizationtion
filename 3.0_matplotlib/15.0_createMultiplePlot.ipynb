{
 "cells": [
  {
   "cell_type": "code",
   "execution_count": 5,
   "metadata": {},
   "outputs": [
    {
     "data": {
      "text/plain": [
       "<matplotlib.axes._subplots.AxesSubplot at 0x7fe0365939e8>"
      ]
     },
     "execution_count": 5,
     "metadata": {},
     "output_type": "execute_result"
    },
    {
     "data": {
      "image/png": "[encoded data removed]",
      "text/plain": [
       "<Figure size 432x288 with 4 Axes>"
      ]
     },
     "metadata": {
      "needs_background": "light"
     },
     "output_type": "display_data"
    }
   ],
   "source": [
    "\"\"\"Write a Python program to create multiple plots. \"\"\"\n",
    "import matplotlib.pyplot as plt\n",
    "fig=plt.figure()\n",
    "fig.subplots_adjust(bottom=0.020,top=0.900,right=0.820)\n",
    "\n",
    "plt.subplot(2,1,1)\n",
    "plt.subplot(2,3,4)\n",
    "plt.subplot(2,3,5)\n",
    "plt.subplot(2,3,6)"
   ]
  }
 ],
 "metadata": {
  "kernelspec": {
   "display_name": "Python 3",
   "language": "python",
   "name": "python3"
  },
  "language_info": {
   "codemirror_mode": {
    "name": "ipython",
    "version": 3
   },
   "file_extension": ".py",
   "mimetype": "text/x-python",
   "name": "python",
   "nbconvert_exporter": "python",
   "pygments_lexer": "ipython3",
   "version": "3.6.9"
  }
 },
 "nbformat": 4,
 "nbformat_minor": 4
}
