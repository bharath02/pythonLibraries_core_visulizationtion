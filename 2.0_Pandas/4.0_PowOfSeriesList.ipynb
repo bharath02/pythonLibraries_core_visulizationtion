{
 "cells": [
  {
   "cell_type": "code",
   "execution_count": 4,
   "metadata": {},
   "outputs": [
    {
     "name": "stdout",
     "output_type": "stream",
     "text": [
      "0      0\n",
      "1      1\n",
      "2      8\n",
      "3     27\n",
      "4     64\n",
      "5    125\n",
      "6    216\n",
      "dtype: int64\n",
      "[0, 1, 8, 27, 64, 125, 216]\n",
      "[0, 1, 8, 27, 64, 125, 216]\n"
     ]
    }
   ],
   "source": [
    "''' Write a Python program to get the powers of an array values element-wise. Note: First array elements raised to powers from second array\n",
    "Expected Output:Original array [0 1 2 3 4 5 6] \n",
    "First array elements raised to powers from second array, element-wise: [ 0 1 8 27 64 125 216]\n",
    "\n",
    "'''\n",
    "\n",
    "import pandas as pd\n",
    "\n",
    "data = pd.Series([0,1,2,3,4,5,6])\n",
    "print(pow(data,3))\n",
    "\n",
    "print(list(data*data*data))\n",
    "print((data*data*data).tolist())\n"
   ]
  }
 ],
 "metadata": {
  "kernelspec": {
   "display_name": "Python 3",
   "language": "python",
   "name": "python3"
  },
  "language_info": {
   "codemirror_mode": {
    "name": "ipython",
    "version": 3
   },
   "file_extension": ".py",
   "mimetype": "text/x-python",
   "name": "python",
   "nbconvert_exporter": "python",
   "pygments_lexer": "ipython3",
   "version": "3.6.9"
  }
 },
 "nbformat": 4,
 "nbformat_minor": 4
}
