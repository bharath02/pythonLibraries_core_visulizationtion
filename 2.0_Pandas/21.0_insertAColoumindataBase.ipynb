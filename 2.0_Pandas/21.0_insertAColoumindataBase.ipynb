{
 "cells": [
  {
   "cell_type": "code",
   "execution_count": 2,
   "metadata": {},
   "outputs": [
    {
     "name": "stdout",
     "output_type": "stream",
     "text": [
      "        name  score  attempts qualify  age\n",
      "a  Anastasia   12.5         1     yes   20\n",
      "b       Dima    9.0         3      no   21\n",
      "c  Katherine   16.5         2     yes   22\n",
      "d      James    NaN         3      no   21\n",
      "e      Emily    9.0         2      no   22\n",
      "f    Michael   20.0         3     yes   20\n",
      "g    Matthew   14.5         1     yes   19\n",
      "h      Laura    NaN         1      no   22\n",
      "i      Kevin    8.0         2      no   19\n",
      "j      Jonas   19.0         1     yes   21\n"
     ]
    }
   ],
   "source": [
    "\"\"\" Write a Python program to insert a new column in existing DataFrame. \n",
    "exam_data = {'name': ['Anastasia', 'Dima', 'Katherine', 'James', 'Emily', 'Michael', 'Matthew', 'Laura', 'Kevin', 'Jonas'],\n",
    "'score': [12.5, 9, 16.5, np.nan, 9, 20, 14.5, np.nan, 8, 19],\n",
    "'attempts': [1, 3, 2, 3, 2, 3, 1, 1, 2, 1],\n",
    "'qualify': ['yes', 'no', 'yes', 'no', 'no', 'yes', 'yes', 'no', 'no', 'yes']}\n",
    "labels = ['a', 'b', 'c', 'd', 'e', 'f', 'g', 'h', 'i', 'j']\n",
    "\"\"\"\n",
    "\n",
    "import pandas as pd\n",
    "import numpy as np\n",
    "examData = {'name': ['Anastasia', 'Dima', 'Katherine', 'James', 'Emily', 'Michael', 'Matthew', 'Laura', 'Kevin', 'Jonas'],\n",
    "            'score': [12.5, 9, 16.5, np.nan, 9, 20, 14.5, np.nan, 8, 19],\n",
    "            'attempts': [1, 3, 2, 3, 2, 3, 1, 1, 2, 1],\n",
    "            'qualify': ['yes', 'no', 'yes', 'no', 'no', 'yes', 'yes', 'no', 'no', 'yes']}\n",
    "labels = ['a', 'b', 'c', 'd', 'e', 'f', 'g', 'h', 'i', 'j']\n",
    "dataFrame=pd.DataFrame((examData),labels)\n",
    "dataFrame['age']=[20,21,22,21,22,20,19,22,19,21]\n",
    "print(dataFrame)"
   ]
  },
  {
   "cell_type": "code",
   "execution_count": 4,
   "metadata": {},
   "outputs": [
    {
     "name": "stdout",
     "output_type": "stream",
     "text": [
      "        name  score  attempts  year qualify\n",
      "a  Anastasia   12.5         1  1991     yes\n",
      "b       Dima    9.0         3  1992      no\n",
      "c  Katherine   16.5         2  1993     yes\n",
      "d      James    NaN         3  1994      no\n",
      "e      Emily    9.0         2  1995      no\n",
      "f    Michael   20.0         3  1996     yes\n",
      "g    Matthew   14.5         1  1997     yes\n",
      "h      Laura    NaN         1  1998      no\n",
      "i      Kevin    8.0         2  1999      no\n",
      "j      Jonas   19.0         1  2000     yes\n"
     ]
    }
   ],
   "source": [
    "dataFrame1=pd.DataFrame((examData),labels)\n",
    "dataFrame1.insert(3,'year',[1991,1992,1993,1994,1995,1996,1997,1998,1999,2000])\n",
    "print(dataFrame1)"
   ]
  },
  {
   "cell_type": "code",
   "execution_count": 9,
   "metadata": {},
   "outputs": [
    {
     "name": "stdout",
     "output_type": "stream",
     "text": [
      "        name  score  attempts qualify status  index\n",
      "a  Anastasia   12.5         1     yes   Pass      3\n",
      "b       Dima    9.0         3      no   Pass      3\n",
      "c  Katherine   16.5         2     yes   Fail      3\n",
      "d      James    NaN         3      no   Pass      3\n",
      "e      Emily    9.0         2      no   Fail      3\n",
      "f    Michael   20.0         3     yes   Pass      3\n",
      "g    Matthew   14.5         1     yes   fail      3\n",
      "h      Laura    NaN         1      no   Pass      3\n",
      "i      Kevin    8.0         2      no   Fail      3\n",
      "j      Jonas   19.0         1     yes   Pass      3\n"
     ]
    }
   ],
   "source": [
    "dataFrame2=pd.DataFrame((examData),labels)\n",
    "dataFrame2=dataFrame2.assign(status=['Pass','Pass','Fail','Pass','Fail','Pass','fail','Pass','Fail','Pass'],index=3)\n",
    "print(dataFrame2)"
   ]
  }
 ],
 "metadata": {
  "kernelspec": {
   "display_name": "Python 3",
   "language": "python",
   "name": "python3"
  },
  "language_info": {
   "codemirror_mode": {
    "name": "ipython",
    "version": 3
   },
   "file_extension": ".py",
   "mimetype": "text/x-python",
   "name": "python",
   "nbconvert_exporter": "python",
   "pygments_lexer": "ipython3",
   "version": "3.6.9"
  }
 },
 "nbformat": 4,
 "nbformat_minor": 4
}
