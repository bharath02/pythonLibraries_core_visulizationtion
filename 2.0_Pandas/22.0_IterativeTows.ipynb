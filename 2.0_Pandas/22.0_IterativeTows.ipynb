{
 "cells": [
  {
   "cell_type": "code",
   "execution_count": 2,
   "metadata": {},
   "outputs": [
    {
     "name": "stdout",
     "output_type": "stream",
     "text": [
      "a Anastasia 12.5\n",
      "b Dima 9.0\n",
      "c Katherine 16.5\n",
      "d James nan\n",
      "e Emily 9.0\n",
      "f Michael 20.0\n",
      "g Matthew 14.5\n",
      "h Laura nan\n",
      "i Kevin 8.0\n",
      "j Jonas 19.0\n"
     ]
    }
   ],
   "source": [
    "\"\"\". Write a Python program to iterate over rows in a DataFrame.\"\"\"\n",
    "import pandas as pd\n",
    "import numpy as np\n",
    "examData = {'name': ['Anastasia', 'Dima', 'Katherine', 'James', 'Emily', 'Michael', 'Matthew', 'Laura', 'Kevin', 'Jonas'],\n",
    "            'score': [12.5, 9, 16.5, np.nan, 9, 20, 14.5, np.nan, 8, 19],\n",
    "            'attempts': [1, 3, 2, 3, 2, 3, 1, 1, 2, 1],\n",
    "            'qualify': ['yes', 'no', 'yes', 'no', 'no', 'yes', 'yes', 'no', 'no', 'yes']}\n",
    "labels = ['a', 'b', 'c', 'd', 'e', 'f', 'g', 'h', 'i', 'j']\n",
    "dataFrame=pd.DataFrame((examData),labels)\n",
    "# iterrows\n",
    "for index,row in dataFrame.iterrows():\n",
    "    print(index,row['name'],row['score'])"
   ]
  },
  {
   "cell_type": "code",
   "execution_count": 4,
   "metadata": {},
   "outputs": [
    {
     "name": "stdout",
     "output_type": "stream",
     "text": [
      "Anastasia 12.5\n",
      "Dima 9.0\n",
      "Katherine 16.5\n",
      "James nan\n",
      "Emily 9.0\n",
      "Michael 20.0\n",
      "Matthew 14.5\n",
      "Laura nan\n",
      "Kevin 8.0\n",
      "Jonas 19.0\n"
     ]
    }
   ],
   "source": [
    "dataFrame1=pd.DataFrame((examData),labels)\n",
    "#index\n",
    "for row in dataFrame1.index:\n",
    "    print(dataFrame1['name'][row],dataFrame1['score'][row])"
   ]
  }
 ],
 "metadata": {
  "kernelspec": {
   "display_name": "Python 3",
   "language": "python",
   "name": "python3"
  },
  "language_info": {
   "codemirror_mode": {
    "name": "ipython",
    "version": 3
   },
   "file_extension": ".py",
   "mimetype": "text/x-python",
   "name": "python",
   "nbconvert_exporter": "python",
   "pygments_lexer": "ipython3",
   "version": "3.6.9"
  }
 },
 "nbformat": 4,
 "nbformat_minor": 4
}
