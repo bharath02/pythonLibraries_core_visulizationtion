{
 "cells": [
  {
   "cell_type": "code",
   "execution_count": 5,
   "metadata": {},
   "outputs": [
    {
     "name": "stdout",
     "output_type": "stream",
     "text": [
      "Addition of Pandas series : \n",
      "  0     3\n",
      "1     7\n",
      "2    11\n",
      "3    15\n",
      "4    19\n",
      "dtype: int64\n",
      "Subtract of Pandas Series : \n",
      " 0    1\n",
      "1    1\n",
      "2    1\n",
      "3    1\n",
      "4    1\n",
      "dtype: int64\n",
      "Multiplication of Pandas Series : \n",
      " 0     2\n",
      "1    12\n",
      "2    30\n",
      "3    56\n",
      "4    90\n",
      "dtype: int64\n",
      "Division of Pandas Series : \n",
      " 0    2.000000\n",
      "1    1.333333\n",
      "2    1.200000\n",
      "3    1.142857\n",
      "4    1.111111\n",
      "dtype: float64\n"
     ]
    }
   ],
   "source": [
    "\"\"\"Write a Python program to add, subtract, multiple and divide two Pandas Series.  \n",
    "Sample Series: [2, 4, 6, 8, 10], [1, 3, 5, 7, 9]\n",
    "\"\"\"\n",
    "import pandas as pd\n",
    "\n",
    "data1=pd.Series([2,4,6,8,10])\n",
    "data2=pd.Series([1,3,5,7,9])\n",
    "dataAdd=data1+data2\n",
    "print(\"Addition of Pandas series : \\n \", dataAdd)\n",
    "dataSub=data1-data2\n",
    "print(\"Subtract of Pandas Series : \\n\", dataSub)\n",
    "datamult=data1*data2\n",
    "print(\"Multiplication of Pandas Series : \\n\",datamult)\n",
    "datadiv=data1/data2\n",
    "print(\"Division of Pandas Series : \\n\",datadiv)"
   ]
  }
 ],
 "metadata": {
  "kernelspec": {
   "display_name": "Python 3",
   "language": "python",
   "name": "python3"
  },
  "language_info": {
   "codemirror_mode": {
    "name": "ipython",
    "version": 3
   },
   "file_extension": ".py",
   "mimetype": "text/x-python",
   "name": "python",
   "nbconvert_exporter": "python",
   "pygments_lexer": "ipython3",
   "version": "3.6.9"
  }
 },
 "nbformat": 4,
 "nbformat_minor": 4
}
